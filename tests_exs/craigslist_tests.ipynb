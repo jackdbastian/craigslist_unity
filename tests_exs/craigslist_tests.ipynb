{
 "metadata": {
  "language_info": {
   "codemirror_mode": {
    "name": "ipython",
    "version": 3
   },
   "file_extension": ".py",
   "mimetype": "text/x-python",
   "name": "python",
   "nbconvert_exporter": "python",
   "pygments_lexer": "ipython3",
   "version": "3.9.1"
  },
  "orig_nbformat": 2,
  "kernelspec": {
   "name": "python391jvsc74a57bd07812ea015bdcee6f23a998adcdd2ef97c151c0c241b7b7070987d9313e41299d",
   "display_name": "Python 3.9.1 64-bit"
  },
  "metadata": {
   "interpreter": {
    "hash": "7812ea015bdcee6f23a998adcdd2ef97c151c0c241b7b7070987d9313e41299d"
   }
  }
 },
 "nbformat": 4,
 "nbformat_minor": 2,
 "cells": [
  {
   "cell_type": "code",
   "execution_count": 2,
   "metadata": {},
   "outputs": [],
   "source": [
    "from craigslist import CraigslistHousing, CraigslistForSale\n",
    "from bs4 import BeautifulSoup\n",
    "import requests\n",
    "import json\n",
    "\n",
    "def cut_out(results):\n",
    "    for i in results:\n",
    "                del i['id']\n",
    "                del i['repost_of']\n",
    "                del i['has_image']\n",
    "                del i['last_updated']\n",
    "                del i['deleted']\n",
    "                del i['geotag']\n",
    "                i['image_url'] = BeautifulSoup(requests.get(i['url']).text).select(\"img\")[0]['src']"
   ]
  },
  {
   "cell_type": "code",
   "execution_count": 7,
   "metadata": {},
   "outputs": [],
   "source": [
    "gravel = list(CraigslistForSale(\n",
    "    site='sfbay',\n",
    "    category='maa', \n",
    "    filters={'query': 'gravel', 'has_image': True}\n",
    ").get_results(limit = 10))"
   ]
  },
  {
   "cell_type": "code",
   "execution_count": 9,
   "metadata": {},
   "outputs": [
    {
     "output_type": "stream",
     "name": "stdout",
     "text": [
      "[{'id': '7296932046', 'name': 'Gravel', 'url': 'https://sfbay.craigslist.org/pen/mat/d/los-altos-gravel/7296932046.html', 'datetime': '2021-04-15 08:49', 'price': '$0', 'where': 'los altos', 'deleted': False, 'image_url': 'https://images.craigslist.org/00M0M_koZDXU3Teek_0hq0ne_600x450.jpg'}]\n"
     ]
    }
   ],
   "source": [
    "def get_posts(cat, query):\n",
    "    results = list(CraigslistForSale(\n",
    "        site='sfbay',\n",
    "        category=cat, \n",
    "        filters={'query': query, 'has_image': True}\n",
    "    ).get_results(limit = 3))\n",
    "\n",
    "    for i in results:\n",
    "        del i['repost_of']\n",
    "        del i['has_image']\n",
    "        del i['last_updated']\n",
    "        del i['geotag']\n",
    "        i['image_url'] = BeautifulSoup(requests.get(i['url']).text).select(\"img\")[0]['src']\n",
    "    \n",
    "    return results\n",
    "\n",
    "# Materials\n",
    "gravel = get_posts(cat='maa', query='gravel')\n",
    "print(gravel)"
   ]
  },
  {
   "cell_type": "code",
   "execution_count": null,
   "metadata": {},
   "outputs": [],
   "source": [
    "beaters = list(CraigslistForSale(\n",
    "    site='sfbay',\n",
    "    category='cta', \n",
    "    filters={\n",
    "        'has_image': True,\n",
    "        'max_year': 1980,\n",
    "        'max_price': 1000}\n",
    ").get_results(limit = 10))\n",
    "\n",
    "cut_out(beaters)"
   ]
  },
  {
   "cell_type": "code",
   "execution_count": null,
   "metadata": {},
   "outputs": [],
   "source": [
    "hot_rods = list(CraigslistForSale(\n",
    "    site='sfbay',\n",
    "    category='cta', \n",
    "    filters={\n",
    "        'has_image': True,\n",
    "        'min_year': 1990,\n",
    "        'max_year': 2000,\n",
    "        'min_price': 8000}\n",
    ").get_results(limit = 10))\n",
    "\n",
    "cut_out(hot_rods)"
   ]
  },
  {
   "source": [
    "cars_dict = {\n",
    "    \"beaters\": beaters,\n",
    "    \"hot rods\": hot_rods\n",
    "}"
   ],
   "cell_type": "code",
   "metadata": {},
   "execution_count": null,
   "outputs": []
  },
  {
   "cell_type": "code",
   "execution_count": null,
   "metadata": {},
   "outputs": [],
   "source": [
    "craig_dict"
   ]
  },
  {
   "cell_type": "code",
   "execution_count": null,
   "metadata": {},
   "outputs": [],
   "source": [
    "cheap_toys = list(CraigslistForSale(\n",
    "    site='sfbay',\n",
    "    category='taa', \n",
    "    filters={\n",
    "        'has_image': True,\n",
    "        'max_price': 5}\n",
    ").get_results(limit = 10))\n",
    "\n",
    "cut_out(cheap_toys)\n",
    "\n",
    "expensive_toys = list(CraigslistForSale(\n",
    "    site='sfbay',\n",
    "    category='taa', \n",
    "    filters={\n",
    "        'has_image': True,\n",
    "        'min_price': 50}\n",
    ").get_results(limit = 10))\n",
    "\n",
    "cut_out(expensive_toys)"
   ]
  },
  {
   "cell_type": "code",
   "execution_count": null,
   "metadata": {},
   "outputs": [],
   "source": [
    "toys_dict = {\n",
    "    \"cheap toys\": cheap_toys,\n",
    "    \"expensive toys\": expensive_toys\n",
    "}"
   ]
  },
  {
   "cell_type": "code",
   "execution_count": null,
   "metadata": {},
   "outputs": [],
   "source": [
    "craig_dict = {\n",
    "    \"cars\": {\n",
    "        \"beaters\": beaters,\n",
    "        \"hot rods\": hot_rods\n",
    "    },\n",
    "    \"toys\": {\n",
    "        \"cheap toys\": cheap_toys,\n",
    "        \"expensive toys\": expensive_toys\n",
    "    }\n",
    "}"
   ]
  },
  {
   "cell_type": "code",
   "execution_count": null,
   "metadata": {},
   "outputs": [],
   "source": [
    "craig_dict"
   ]
  },
  {
   "cell_type": "code",
   "execution_count": 2,
   "metadata": {},
   "outputs": [],
   "source": [
    "d = {'a':1, 'b':2} \n",
    "print(d,  file=open('sample.json', 'w'))"
   ]
  },
  {
   "cell_type": "code",
   "execution_count": 5,
   "metadata": {},
   "outputs": [],
   "source": [
    "\n",
    "j = json.dumps(d, indent=4)\n",
    "f = open('sample.json', 'w')\n",
    "print(j, file=f) \n",
    "f.close()"
   ]
  },
  {
   "cell_type": "code",
   "execution_count": null,
   "metadata": {},
   "outputs": [],
   "source": []
  }
 ]
}