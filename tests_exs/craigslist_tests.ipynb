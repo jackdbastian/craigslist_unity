{
 "metadata": {
  "language_info": {
   "codemirror_mode": {
    "name": "ipython",
    "version": 3
   },
   "file_extension": ".py",
   "mimetype": "text/x-python",
   "name": "python",
   "nbconvert_exporter": "python",
   "pygments_lexer": "ipython3",
   "version": "3.9.1"
  },
  "orig_nbformat": 2,
  "kernelspec": {
   "name": "python391jvsc74a57bd0aee8b7b246df8f9039afb4144a1f6fd8d2ca17a180786b69acc140d282b71a49",
   "display_name": "Python 3.9.1 64-bit"
  },
  "metadata": {
   "interpreter": {
    "hash": "aee8b7b246df8f9039afb4144a1f6fd8d2ca17a180786b69acc140d282b71a49"
   }
  }
 },
 "nbformat": 4,
 "nbformat_minor": 2,
 "cells": [
  {
   "cell_type": "code",
   "execution_count": 23,
   "metadata": {},
   "outputs": [],
   "source": [
    "from craigslist import CraigslistHousing, CraigslistForSale\n",
    "from bs4 import BeautifulSoup\n",
    "import requests\n",
    "import json\n",
    "import re"
   ]
  },
  {
   "cell_type": "code",
   "execution_count": 35,
   "metadata": {},
   "outputs": [
    {
     "output_type": "execute_result",
     "data": {
      "text/plain": [
       "\"4x4x16' pressure treated posts $20 each6x6x8' pressure treated post $50call or text Jim  pickup at 1620 S. 7th St. San Jose, call before you come to make sure I am here.\""
      ]
     },
     "metadata": {},
     "execution_count": 35
    }
   ],
   "source": [
    "description = BeautifulSoup(requests.get(\"https://sfbay.craigslist.org/sby/mat/d/san-jose-pressure-treated-wood/7316584899.html\").text, features=\"html.parser\").select(\"#postingbody\")[0].text\n",
    "\n",
    "description = re.sub(r'\\n', '', description)\n",
    "\n",
    "description = re.sub('QR Code Link to This Post', '', description)\n",
    "\n",
    "description = re.sub('show contact info', '', description)\n",
    "\n",
    "description.strip()"
   ]
  },
  {
   "cell_type": "code",
   "execution_count": 34,
   "metadata": {},
   "outputs": [
    {
     "output_type": "execute_result",
     "data": {
      "text/plain": [
       "<function str.strip(chars=None, /)>"
      ]
     },
     "metadata": {},
     "execution_count": 34
    }
   ],
   "source": [
    "description"
   ]
  },
  {
   "cell_type": "code",
   "execution_count": null,
   "metadata": {},
   "outputs": [],
   "source": []
  }
 ]
}