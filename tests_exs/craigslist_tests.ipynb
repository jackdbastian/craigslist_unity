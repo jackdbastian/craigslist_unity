{
 "metadata": {
  "language_info": {
   "codemirror_mode": {
    "name": "ipython",
    "version": 3
   },
   "file_extension": ".py",
   "mimetype": "text/x-python",
   "name": "python",
   "nbconvert_exporter": "python",
   "pygments_lexer": "ipython3",
   "version": "3.9.1"
  },
  "orig_nbformat": 2,
  "kernelspec": {
   "name": "python391jvsc74a57bd0aee8b7b246df8f9039afb4144a1f6fd8d2ca17a180786b69acc140d282b71a49",
   "display_name": "Python 3.9.1 64-bit"
  },
  "metadata": {
   "interpreter": {
    "hash": "aee8b7b246df8f9039afb4144a1f6fd8d2ca17a180786b69acc140d282b71a49"
   }
  }
 },
 "nbformat": 4,
 "nbformat_minor": 2,
 "cells": [
  {
   "cell_type": "code",
   "execution_count": 23,
   "metadata": {},
   "outputs": [],
   "source": [
    "from craigslist import CraigslistHousing, CraigslistForSale\n",
    "from bs4 import BeautifulSoup\n",
    "import requests\n",
    "import json\n",
    "import re"
   ]
  },
  {
   "cell_type": "code",
   "execution_count": 41,
   "metadata": {},
   "outputs": [],
   "source": [
    "images = []\n",
    "\n",
    "for i in BeautifulSoup(requests.get('https://sfbay.craigslist.org/sby/msg/d/campbell-sherman-clay-upright-piano-free/7316590344.html').text, features=\"html.parser\").select(\"img\"):\n",
    "    images.append(i['src'])"
   ]
  },
  {
   "cell_type": "code",
   "execution_count": 43,
   "metadata": {},
   "outputs": [
    {
     "output_type": "execute_result",
     "data": {
      "text/plain": [
       "['https://images.craigslist.org/00I0I_24qh3bqKjj7z_0rO0CI_600x450.jpg',\n",
       " 'https://images.craigslist.org/00I0I_24qh3bqKjj7z_0rO0CI_50x50c.jpg',\n",
       " 'https://images.craigslist.org/00U0U_1gk03UIWoFXz_0rO0CI_50x50c.jpg',\n",
       " 'https://images.craigslist.org/00p0p_ksdvHjjEElUz_0rO0CI_50x50c.jpg',\n",
       " 'https://images.craigslist.org/00T0T_7jzdoVOcup3z_0rO0CI_50x50c.jpg',\n",
       " 'https://images.craigslist.org/00909_h3i6MP5liPYz_0rO0CI_50x50c.jpg']"
      ]
     },
     "metadata": {},
     "execution_count": 43
    }
   ],
   "source": [
    "[i['src'] for i in BeautifulSoup(requests.get('https://sfbay.craigslist.org/sby/msg/d/campbell-sherman-clay-upright-piano-free/7316590344.html').text, features=\"html.parser\").select(\"img\")]"
   ]
  },
  {
   "cell_type": "code",
   "execution_count": null,
   "metadata": {},
   "outputs": [],
   "source": []
  }
 ]
}